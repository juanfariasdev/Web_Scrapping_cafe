{
  "nbformat": 4,
  "nbformat_minor": 0,
  "metadata": {
    "colab": {
      "provenance": [],
      "private_outputs": true,
      "include_colab_link": true
    },
    "kernelspec": {
      "name": "python3",
      "display_name": "Python 3"
    },
    "language_info": {
      "name": "python"
    }
  },
  "cells": [
    {
      "cell_type": "markdown",
      "metadata": {
        "id": "view-in-github",
        "colab_type": "text"
      },
      "source": [
        "<a href=\"https://colab.research.google.com/github/juanfariasdev/Web_Scrapping_cafe/blob/main/02_Web_Scrapping_cafe.ipynb\" target=\"_parent\"><img src=\"https://colab.research.google.com/assets/colab-badge.svg\" alt=\"Open In Colab\"/></a>"
      ]
    },
    {
      "cell_type": "markdown",
      "source": [
        "### Bibliotecas\n",
        "\n",
        "*   A biblioteca [`requests`](https://pypi.org/project/requests/) do Python é usada para fazer requisições HTTP, permitindo conectar a servidores web, enviar dados e receber respostas;\n",
        "*   A biblioteca [`pytz`](https://pypi.org/project/pytz/) do Python é usada para trabalhar com fusos horários, permitindo manipulação de datas e horas em diferentes regiões do mundo\n",
        "*   A biblioteca [`BeautifulSoup`](https://pypi.org/project/beautifulsoup4) do Python é usada para extrair dados de documentos HTML/XML, permitindo navegar, pesquisar e modificar o conteúdo do documento, sendo amplamente utilizada para web scraping."
      ],
      "metadata": {
        "id": "RzRYvw0qoO98"
      }
    },
    {
      "cell_type": "code",
      "execution_count": null,
      "metadata": {
        "id": "AgMVK2mWnSEw"
      },
      "outputs": [],
      "source": [
        "import random\n",
        "import os\n",
        "import requests\n",
        "import pytz\n",
        "import pandas as pd\n",
        "import matplotlib.pyplot as plt\n",
        "import seaborn as sns\n",
        "\n",
        "from enum import Enum\n",
        "from bs4 import BeautifulSoup\n",
        "from datetime import datetime"
      ]
    },
    {
      "cell_type": "markdown",
      "source": [
        "### Funções utilitárias\n",
        "\n",
        "Essas funções serão utilizadas em diferentes partes do notebook."
      ],
      "metadata": {
        "id": "Jfag39CIoUqD"
      }
    },
    {
      "cell_type": "code",
      "source": [
        "# Lista de agentes de usuário\n",
        "agents = [\n",
        "    \"Mozilla/5.0 (Windows NT 10.0; Win64; x64) AppleWebKit/537.36 (KHTML, like Gecko) Chrome/86.0.4240.198 Safari/537.36\",\n",
        "    \"Mozilla/5.0 (Macintosh; Intel Mac OS X 10.15; rv:109.0) Gecko/20100101 Firefox/116.0\",\n",
        "    \"Mozilla/5.0 (Linux; Android 10; K) AppleWebKit/537.36 (KHTML, like Gecko) Chrome/116.0.0.0 Safari/537.36\",\n",
        "    \"Mozilla/5.0 (Macintosh; Intel Mac OS X 10_15_7) AppleWebKit/605.1.15 (KHTML, like Gecko) Version/15.6 Safari/605.1.15\",\n",
        "    \"Mozilla/5.0 (X11; Linux x86_64) AppleWebKit/537.36 (KHTML, like Gecko) Chrome/115.0.0.0 Safari/537.36 Edg/115.0.1901.188\",\n",
        "    \"Mozilla/5.0 (X11; Linux x86_64) AppleWebKit/537.36 (KHTML, like Gecko) Chrome/117.0.0.0 Safari/537.36 Edg/117.0.0.0\",\n",
        "    \"Mozilla/5.0 (Windows NT 10.0; Win64; x64) AppleWebKit/537.36 (KHTML, like Gecko) Chrome/116.0.0.0 Safari/537.36\"\n",
        "]\n",
        "\n",
        "# Seleciona um agente de usuário aleatório\n",
        "def get_agent():\n",
        "    return random.choice(agents)\n",
        "\n",
        "# Enum para fontes de dados\n",
        "class Sources(str, Enum):\n",
        "    B3 = 'b3'  # Bolsa Brasileira (Brasil)\n",
        "    CEPEA = 'cepea'  # Cpea/Esalq para SP e interior\n",
        "    COOPAMA = 'coopama'  # Coopama, Machado MG\n",
        "    COOPERCAM = 'coopercam'  # Coopercam, Campos Gerais MG\n",
        "    CCMG = 'ccmg'  # Centro do Comércio de Café, Varginha MG\n",
        "    COOXUPE = 'cooxupe'  # Cooxupé, Guaxupé MG\n",
        "    CAFEPOCOS = 'cafe-pocos'  # Café Poços, Poços de Caldas MG\n",
        "    COCAPEC = 'cocapec'  # Cocapec, Franca SP\n",
        "\n",
        "    def __str__(self) -> str:\n",
        "        return self.value\n",
        "\n",
        "# Obtém a data e hora formatadas\n",
        "def date_time(separator_date='/', separator_time=':'):\n",
        "    snap = datetime.now(pytz.timezone('America/Sao_Paulo'))\n",
        "    return {\n",
        "        'date': snap.strftime(f\"%d{separator_date}%m{separator_date}%Y\"),\n",
        "        'time': snap.strftime(f\"%H{separator_time}%M{separator_time}%S\")\n",
        "    }\n",
        "\n",
        "# Mantém apenas os números (e caracteres extras opcionais) em uma string\n",
        "def retain_numbers_in_string(str_value, extra_chars=\"\"):\n",
        "    allowed_chars = \"0123456789\" + extra_chars\n",
        "    return ''.join(filter(lambda x: x in allowed_chars, str_value))\n",
        "\n",
        "# Converte vírgulas em pontos em uma string\n",
        "def comma_to_point(str_value):\n",
        "    return str_value.replace(',', '.')\n"
      ],
      "metadata": {
        "id": "gcQ3-Hd4oWpN"
      },
      "execution_count": null,
      "outputs": []
    },
    {
      "cell_type": "markdown",
      "source": [
        "### Variáveis globais\n",
        "\n",
        "Essas variáveis serão utilizadas em diferentes partes do notebook."
      ],
      "metadata": {
        "id": "yfHqB62iofVd"
      }
    },
    {
      "cell_type": "code",
      "source": [
        "headers = {'User-Agent': get_agent()}\n",
        "digits_for_floats = 2"
      ],
      "metadata": {
        "id": "bfSDX-9morwN"
      },
      "execution_count": null,
      "outputs": []
    },
    {
      "cell_type": "markdown",
      "source": [],
      "metadata": {
        "id": "g-ILt7BY7m88"
      }
    },
    {
      "cell_type": "code",
      "source": [
        "def fetch_soup(url, headers):\n",
        "    \"\"\" Obtém e parseia o conteúdo HTML da página. \"\"\"\n",
        "    try:\n",
        "        response = requests.get(url, headers=headers)\n",
        "        response.raise_for_status()  # Levanta erro para status HTTP ruins\n",
        "        return BeautifulSoup(response.content, 'html.parser')\n",
        "    except requests.RequestException as error:\n",
        "        display(f\"Erro ao acessar {url}: {error}\")\n",
        "        return None"
      ],
      "metadata": {
        "id": "Oygt9Ywh7qun"
      },
      "execution_count": null,
      "outputs": []
    },
    {
      "cell_type": "markdown",
      "source": [
        "### Cotações\n",
        "\n",
        "Buscaremos cotações de preço de café em diferentes regioões/cidades do Brasil.\n",
        "\n",
        "A idéia é consolidar essas cotações ao longo do tempo para fazer análises."
      ],
      "metadata": {
        "id": "Kjc_GM5ko_8E"
      }
    },
    {
      "cell_type": "markdown",
      "source": [
        "#### Cotação na B3\n",
        "\n",
        "A Brasil, Bolsa, Balcão ([B3](https://www.b3.com.br)) é a bolsa de valores brasileira, que fica sediada na cidade de São Paulo."
      ],
      "metadata": {
        "id": "PXRvAHOZvIKw"
      }
    },
    {
      "cell_type": "code",
      "source": [
        "def price_b3_via_coox(url, headers):\n",
        "    us_coffee = us_dollar = 0\n",
        "\n",
        "    soup = fetch_soup(url, headers)\n",
        "    if not soup:\n",
        "        return 0\n",
        "\n",
        "    table = soup.find('tbody')\n",
        "    if not table:\n",
        "        display('Erro ao buscar tabela de preços B3')\n",
        "        return 0\n",
        "\n",
        "    for row in table.find_all('tr'):\n",
        "        columns = row.find_all('td')\n",
        "\n",
        "        if columns:\n",
        "            desc = columns[0].text.strip()\n",
        "            value = columns[1].text.strip()[:-1]  # Remove o último caractere\n",
        "\n",
        "            if 'KCZ4' in desc:\n",
        "                us_coffee = value\n",
        "            elif 'DOL COM' in desc:\n",
        "                us_dollar = value\n",
        "\n",
        "    if not us_coffee or not us_dollar:\n",
        "        display('Erro ao buscar preços B3')\n",
        "        return 0\n",
        "\n",
        "    return round(float(us_coffee) * float(us_dollar), digits_for_floats)"
      ],
      "metadata": {
        "id": "RaI2YfAtpCTk"
      },
      "execution_count": null,
      "outputs": []
    },
    {
      "cell_type": "markdown",
      "source": [
        "#### Cotação do CPEA\n",
        "\n",
        "O [CEPEA](https://www.cepea.esalq.usp.br/br) é o Centro de Estudos Avançados em Economia Aplicada da Escola Superior de Agricultura (Esalq/USP)."
      ],
      "metadata": {
        "id": "DfF02-r4yk1L"
      }
    },
    {
      "cell_type": "code",
      "source": [
        "def price_cepea(url, headers):\n",
        "    soup = fetch_soup(url, headers)\n",
        "    if not soup:\n",
        "        return 0\n",
        "\n",
        "    tbody = soup.find('tbody')\n",
        "    if not tbody:\n",
        "        display('Erro ao buscar tabela de preços CEPEA')\n",
        "        return 0\n",
        "\n",
        "    for row in tbody.find_all('tr'):\n",
        "        columns = row.find_all('td')\n",
        "        if columns:\n",
        "            price = comma_to_point(retain_numbers_in_string(columns[1].text))\n",
        "            return round(float(price), digits_for_floats)\n",
        "\n",
        "    display('Erro ao ler os dados do CEPEA')\n",
        "    return 0"
      ],
      "metadata": {
        "id": "M8uqX7ygyoky"
      },
      "execution_count": null,
      "outputs": []
    },
    {
      "cell_type": "markdown",
      "source": [
        "#### Cotação da Coopama\n",
        "\n",
        "A [Coopama](https://www.coopama.com.br/) é a Cooperativa Agrária de Machado que, entre outras atividades, oferece comercialização e armazenagem de café e outros grãos, como milho, soja, sorgo e aveia."
      ],
      "metadata": {
        "id": "h-9xNODI5GRK"
      }
    },
    {
      "cell_type": "code",
      "source": [
        "def price_coopama(url, headers):\n",
        "    soup = fetch_soup(url, headers)\n",
        "    if not soup:\n",
        "        return 0\n",
        "\n",
        "    div = soup.find('div', {'id': \"cotacao-cafe\"})\n",
        "    if not div:\n",
        "        display('Erro ao buscar seção de cotação do Coopama')\n",
        "        return 0\n",
        "\n",
        "    spans = div.find_all('span', {'class': 'col'})\n",
        "    found = False\n",
        "\n",
        "    for span in spans:\n",
        "        content = span.text.strip()\n",
        "\n",
        "        if found:\n",
        "            price = comma_to_point(retain_numbers_in_string(content))\n",
        "            return round(float(price), digits_for_floats)\n",
        "\n",
        "        if 'Dura' in content:\n",
        "            found = True\n",
        "\n",
        "    display('Erro ao ler os dados do Coopama')"
      ],
      "metadata": {
        "id": "ATQT8dml5kCS"
      },
      "execution_count": null,
      "outputs": []
    },
    {
      "cell_type": "markdown",
      "source": [
        "#### Cotação da Coopercam\n",
        "\n",
        "A [Coopercam](https://coopercam.com.br/) é a Cooperativa do Cafeicultores de Campos Gerais MG e Campo do Meio MG. Sediado no segundo maior município produtor de café do Brasil, a cooperativa atua em aproximadamente 15 mil ha de café, que abrange os munícipios de Campos Gerais, Campo do Meio, distrito de Córrego do Ouro e cidades circunvizinhas."
      ],
      "metadata": {
        "id": "s2cesoQy9T3F"
      }
    },
    {
      "cell_type": "code",
      "source": [
        "def price_coopercam(url, headers):\n",
        "    soup = fetch_soup(url, headers)\n",
        "    if not soup:\n",
        "        return 0\n",
        "\n",
        "    div = soup.find('div', {'id': \"cotacao-cafe\"})\n",
        "    if not div:\n",
        "        display('Erro ao buscar seção de cotação do Coopama')\n",
        "        return 0\n",
        "\n",
        "    spans = div.find_all('span', {'class': 'col'})\n",
        "    found = False\n",
        "\n",
        "    for span in spans:\n",
        "        content = span.text.strip()\n",
        "\n",
        "        if found:\n",
        "            price = comma_to_point(retain_numbers_in_string(content))\n",
        "            return round(float(price), digits_for_floats)\n",
        "\n",
        "        if 'Dura' in content:\n",
        "            found = True\n",
        "\n",
        "    display('Erro ao ler os dados do Coopama')"
      ],
      "metadata": {
        "id": "GHwjtzEN9WmP"
      },
      "execution_count": null,
      "outputs": []
    },
    {
      "cell_type": "markdown",
      "source": [
        "#### Cotação do CCMG\n",
        "\n",
        "O [CCMG](https://cccmg.com.br/) é o Centro do Comércio de Café do Estado de Minas Gerais, uma instituição representativa, sem fins lucrativos, que agrega empresas que atuam no agronegócio café."
      ],
      "metadata": {
        "id": "h4zSWK_hbNFB"
      }
    },
    {
      "cell_type": "code",
      "source": [
        "def price_ccmg(url, headers):\n",
        "    soup = fetch_soup(url, headers)\n",
        "    if not soup:\n",
        "        return 0\n",
        "\n",
        "    div = soup.find('div', {'id': \"cotacao-cafe\"})\n",
        "    if not div:\n",
        "        display('Erro ao buscar seção de cotação do Coopama')\n",
        "        return 0\n",
        "\n",
        "    spans = div.find_all('span', {'class': 'col'})\n",
        "    found = False\n",
        "\n",
        "    for span in spans:\n",
        "        content = span.text.strip()\n",
        "\n",
        "        if found:\n",
        "            price = comma_to_point(retain_numbers_in_string(content))\n",
        "            return round(float(price), digits_for_floats)\n",
        "\n",
        "        if 'Dura' in content:\n",
        "            found = True\n",
        "\n",
        "    display('Erro ao ler os dados do Coopama')"
      ],
      "metadata": {
        "id": "JIpbgJRPg4yq"
      },
      "execution_count": null,
      "outputs": []
    },
    {
      "cell_type": "markdown",
      "source": [
        "#### Cotação da Cooxupé\n",
        "\n",
        "A [Cooxupé](https://www.cooxupe.com.br/) é a Cooperativa Regional de Cafeicultores em Guaxupé MG. Atualmente, é a maior cooperativa de cafeicultores do mundo, contando com mais de 20 mil cooperados espalhados em mais de 330 municípios localizados no Sul de Minas, Cerrado Mineiro, Matas de Minas e Vale do Rio Pardo (no estado de São Paulo).\n",
        "\n",
        "Ler cotações no [Hub do Café](https://hubdocafe.cooxupe.com.br/cafe-da-tarde/), card **Café fino Cooxupé**."
      ],
      "metadata": {
        "id": "tdJh6LtGbSEe"
      }
    },
    {
      "cell_type": "code",
      "source": [
        "def price_cooxupe(url, headers):\n",
        "    soup = fetch_soup(url, headers)\n",
        "    if not soup:\n",
        "        return 0\n",
        "\n",
        "    div = soup.find('div', {'id': \"cotacao-cafe\"})\n",
        "    if not div:\n",
        "        display('Erro ao buscar seção de cotação do Coopama')\n",
        "        return 0\n",
        "\n",
        "    spans = div.find_all('span', {'class': 'col'})\n",
        "    found = False\n",
        "\n",
        "    for span in spans:\n",
        "        content = span.text.strip()\n",
        "\n",
        "        if found:\n",
        "            price = comma_to_point(retain_numbers_in_string(content))\n",
        "            return round(float(price), digits_for_floats)\n",
        "\n",
        "        if 'Dura' in content:\n",
        "            found = True\n",
        "\n",
        "    display('Erro ao ler os dados do Coopama')"
      ],
      "metadata": {
        "id": "7hyRrM96g5zH"
      },
      "execution_count": null,
      "outputs": []
    },
    {
      "cell_type": "markdown",
      "source": [
        "#### Cotação da Café Poços\n",
        "\n",
        "A [Café Poços]() é a Cooperativa Regional dos Cafeicultores de Poços de Caldas.\n",
        "\n",
        "Ler cotações no [Notícias Agrícolas](https://www.noticiasagricolas.com.br/cotacoes/cafe/cafe-arabica-mercado-fisico-tipo-6-7)."
      ],
      "metadata": {
        "id": "q2j8d62tbaci"
      }
    },
    {
      "cell_type": "code",
      "source": [
        "def price_pocos(url, headers):\n",
        "    soup = fetch_soup(url, headers)\n",
        "    if not soup:\n",
        "        return 0\n",
        "\n",
        "    div = soup.find('div', {'id': \"cotacao-cafe\"})\n",
        "    if not div:\n",
        "        display('Erro ao buscar seção de cotação do Coopama')\n",
        "        return 0\n",
        "\n",
        "    spans = div.find_all('span', {'class': 'col'})\n",
        "    found = False\n",
        "\n",
        "    for span in spans:\n",
        "        content = span.text.strip()\n",
        "\n",
        "        if found:\n",
        "            price = comma_to_point(retain_numbers_in_string(content))\n",
        "            return round(float(price), digits_for_floats)\n",
        "\n",
        "        if 'Dura' in content:\n",
        "            found = True\n",
        "\n",
        "    display('Erro ao ler os dados do Coopama')"
      ],
      "metadata": {
        "id": "aYk0goZWg6xk"
      },
      "execution_count": null,
      "outputs": []
    },
    {
      "cell_type": "code",
      "source": [
        "def price_cocapec(url, headers):\n",
        "    \"\"\"Obtém o preço de Franca na tabela de cotações da Cocapec.\"\"\"\n",
        "    soup = fetch_soup(url, headers)\n",
        "    if not soup:\n",
        "        return None\n",
        "\n",
        "    table = soup.find('table', {'class': 'cot-fisicas'})\n",
        "    if not table:\n",
        "        display(\"Erro: Não foi possível encontrar a tabela de cotações da Cocapec.\")\n",
        "        return None\n",
        "\n",
        "    for row in table.find_all('tr'):\n",
        "        columns = row.find_all('td')\n",
        "        if columns and 'Franca' in columns[0].text:\n",
        "            price = comma_to_point(retain_numbers_in_string(columns[1].text.strip()))\n",
        "            return round(float(price), 2)\n",
        "\n",
        "    display(\"Erro: Não foi possível encontrar o preço de Franca.\")\n",
        "    return None\n"
      ],
      "metadata": {
        "id": "DndyfWYkHSWA"
      },
      "execution_count": null,
      "outputs": []
    },
    {
      "cell_type": "markdown",
      "source": [
        "### Leitura dos Dados"
      ],
      "metadata": {
        "id": "bw9zWcRKqlzf"
      }
    },
    {
      "cell_type": "code",
      "source": [
        "# Definindo um dicionário de fontes e URLs\n",
        "sources_urls = {\n",
        "    Sources.B3: \"https://hubdocafe.cooxupe.com.br\",\n",
        "    Sources.CEPEA: 'https://www.cepea.esalq.usp.br/br/indicador/cafe.aspx',\n",
        "    Sources.COOPAMA: 'https://www.coopama.com.br',\n",
        "    Sources.COOPERCAM: 'https://coopercam.com.br/cotacoes/',\n",
        "    Sources.CCMG: 'https://cccmg.com.br/cotacao-do-cafe/19-12-2024/',\n",
        "    Sources.COOXUPE: 'https://hubdocafe.cooxupe.com.br/cafe-da-tarde/',\n",
        "    Sources.CAFEPOCOS: 'https://www.noticiasagricolas.com.br/cotacoes/cafe/cafe-arabica-mercado-fisico-tipo-6-7',\n",
        "    Sources.COCAPEC: 'https://www.noticiasagricolas.com.br/cotacoes/cafe/cafe-arabica-mercado-fisico-tipo-6-7'\n",
        "}\n",
        "\n",
        "# Definindo um dicionário de preços\n",
        "prices = {\n",
        "    'data': date_time()['date'],\n",
        "    Sources.B3: [],\n",
        "    Sources.CEPEA: [],\n",
        "    Sources.COOPAMA: [],\n",
        "    # Sources.COOPERCAM: [],\n",
        "    # Sources.CCMG: [],\n",
        "    # Sources.COOXUPE: [],\n",
        "    # Sources.CAFEPOCOS: [],\n",
        "    Sources.COCAPEC: []\n",
        "}\n",
        "\n",
        "# Função auxiliar para buscar e adicionar preços ao dicionário\n",
        "def fetch_price(source, url, headers):\n",
        "    try:\n",
        "        # Funções de preço específicas para cada fonte\n",
        "        if source == Sources.B3:\n",
        "            return price_b3_via_coox(url, headers)\n",
        "        elif source == Sources.CEPEA:\n",
        "            return price_cepea(url, headers)\n",
        "        elif source == Sources.COOPAMA:\n",
        "            return price_coopama(url, headers)\n",
        "        # elif source == Sources.COOPERCAM:\n",
        "        #     return price_coopercam(url, headers)\n",
        "        # elif source == Sources.CCMG:\n",
        "        #     return price_ccmg(url, headers)\n",
        "        # elif source == Sources.COOXUPE:\n",
        "        #     return price_cooxupe(url, headers)\n",
        "        # elif source == Sources.CAFEPOCOS:\n",
        "        #     return price_pocos(url, headers)\n",
        "        elif source == Sources.COCAPEC:\n",
        "            return price_cocapec(url, headers)\n",
        "    except Exception as e:\n",
        "        display(f\"Erro ao buscar dados de {source}: {e}\")\n",
        "        return None\n",
        "\n",
        "# Iniciando a leitura\n",
        "display('Leitura iniciada...')\n",
        "\n",
        "# Iterando sobre as fontes e URLs\n",
        "for source, url in sources_urls.items():\n",
        "    price = fetch_price(source, url, headers)\n",
        "    if price is not None:\n",
        "        prices[source].append(price)\n",
        "\n",
        "display('Leitura de dados ok!')\n"
      ],
      "metadata": {
        "id": "IJxLRtQlqoZl"
      },
      "execution_count": null,
      "outputs": []
    },
    {
      "cell_type": "markdown",
      "source": [
        "### Salvamento dos Dados"
      ],
      "metadata": {
        "id": "0SdAcBRUSeM0"
      }
    },
    {
      "cell_type": "code",
      "source": [
        "from google.colab import drive\n",
        "drive.mount('/content/drive')"
      ],
      "metadata": {
        "id": "zjQtwaql4yQ7"
      },
      "execution_count": null,
      "outputs": []
    },
    {
      "cell_type": "code",
      "source": [
        "\n",
        "# O caminho vai depender do local do arquivo no seu drive\n",
        "file_name = '/content/drive/MyDrive/precos.csv'\n",
        "\n",
        "df = pd.DataFrame(prices)\n",
        "\n",
        "# Testar se o arquivo existe para abrir em edição\n",
        "if os.path.isfile(file_name):\n",
        "  df.to_csv(file_name, mode='a', index=False, header=False)\n",
        "  display(\"Adicionando informações ao arquivo.\")\n",
        "# Se não existir, abre em criação\n",
        "else:\n",
        "  df.to_csv(file_name, index=False)\n",
        "  display(f\"Arquivo '{file_name}' criado com sucesso.\")\n",
        "  display(f\"Adicionando informações ao arquivo criado.\")"
      ],
      "metadata": {
        "id": "vgYdhxERStlq"
      },
      "execution_count": null,
      "outputs": []
    },
    {
      "cell_type": "markdown",
      "source": [
        "### Visualização dos Dados"
      ],
      "metadata": {
        "id": "KdosjYL9B73O"
      }
    },
    {
      "cell_type": "code",
      "source": [
        "df = pd.read_csv(file_name)\n",
        "display(df.head())\n",
        "\n",
        "dfm = df.melt('data', var_name='colunas', value_name='valores')\n",
        "display(dfm)"
      ],
      "metadata": {
        "id": "WJUS2JZ6D2nh"
      },
      "execution_count": null,
      "outputs": []
    },
    {
      "cell_type": "markdown",
      "source": [
        "#### Gráfico de Evolução de Preços\n",
        "\n",
        "Gráfico de Linhas."
      ],
      "metadata": {
        "id": "fXEzKJ6RB_dZ"
      }
    },
    {
      "cell_type": "code",
      "source": [
        "sns.set(font_scale=1)\n",
        "\n",
        "plt.figure(figsize=(10, 6))\n",
        "\n",
        "graph = sns.lineplot(data=dfm, x='data', y='valores', hue='colunas', marker='o')\n",
        "graph.set_ylim(260000, 280000)\n",
        "\n",
        "legends, _ = graph.get_legend_handles_labels()\n",
        "graph.legend(legends, list(map(lambda leg :\n",
        "        leg.get_label().capitalize(), legends)), title=\"Entidades\")\n",
        "\n",
        "graph.set(title=\"Preços do Café Sul MG\", xlabel='Data',\n",
        "          ylabel=\"Valors em R$\")\n",
        "\n",
        "plt.show()"
      ],
      "metadata": {
        "id": "Q8lMDypsCBW8"
      },
      "execution_count": null,
      "outputs": []
    },
    {
      "cell_type": "markdown",
      "source": [
        "### Gráfico de (*sua escolha*)\n",
        "\n",
        "Explicar qual o gráfico utilizado, e a o que ele pretende mostrar em relação aos dados."
      ],
      "metadata": {
        "id": "R84YuJnSt233"
      }
    },
    {
      "cell_type": "code",
      "source": [
        "# Ajustando o estilo global\n",
        "sns.set(style=\"whitegrid\", font_scale=1.2)\n",
        "\n",
        "# Definindo o tamanho da figura\n",
        "plt.figure(figsize=(14, 7))\n",
        "\n",
        "# Criação do gráfico de barras agrupadas\n",
        "graph = sns.barplot(data=dfm, x='data', y='valores', hue='colunas', palette=\"muted\", errorbar=None)\n",
        "\n",
        "# Ajuste de títulos e rótulos com mais estilo\n",
        "graph.set(title=\"Preços do Café Sul MG\", xlabel='Data', ylabel=\"Valores em R$\")\n",
        "\n",
        "# Personalizando os rótulos do eixo X para melhorar a legibilidade\n",
        "plt.xticks(rotation=45, ha='right', fontsize=12)\n",
        "\n",
        "# Exibindo as barras com bordas finas para uma aparência mais discreta\n",
        "for container in graph.containers:\n",
        "    graph.bar_label(container, padding=5, fontsize=10, color='black')\n",
        "\n",
        "# Adicionando linhas de grade mais discretas\n",
        "plt.grid(True, linestyle='--', alpha=0.7)\n",
        "\n",
        "# Ajustando o layout\n",
        "plt.tight_layout()\n",
        "\n",
        "# Exibindo o gráfico\n",
        "plt.show()\n"
      ],
      "metadata": {
        "id": "DTFuYGv2t2Tb"
      },
      "execution_count": null,
      "outputs": []
    }
  ]
}